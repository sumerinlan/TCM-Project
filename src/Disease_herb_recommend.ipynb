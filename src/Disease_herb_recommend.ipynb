{
 "cells": [
  {
   "cell_type": "code",
   "execution_count": 130,
   "metadata": {},
   "outputs": [],
   "source": [
    "import pickle\n",
    "import numpy as np\n",
    "import sys\n",
    "import json"
   ]
  },
  {
   "cell_type": "markdown",
   "metadata": {},
   "source": [
    "## Load training result"
   ]
  },
  {
   "cell_type": "code",
   "execution_count": 53,
   "metadata": {},
   "outputs": [],
   "source": [
    "P_d = pickle.load( open( \"../training_result/P_d.p\", \"rb\" ) )\n",
    "P_t_d = pickle.load( open( \"../training_result/P_t_d.p\", \"rb\" ) )\n",
    "P_s_d = pickle.load( open( \"../training_result/P_s_d.p\", \"rb\" ) )\n",
    "P_h_d = pickle.load( open( \"../training_result/P_h_d.p\", \"rb\" ) )\n",
    "key_dis = pickle.load( open( \"../training_result/key_dis\", \"rb\"))\n",
    "key_herb = pickle.load( open(\"../training_result/key_herb\", \"rb\"))\n",
    "key_sym = pickle.load( open(\"../training_result/key_sym\", \"rb\"))"
   ]
  },
  {
   "cell_type": "code",
   "execution_count": 54,
   "metadata": {},
   "outputs": [],
   "source": [
    "# Helper function that parses a text file into a dictionary\n",
    "def parse_dict(file_name): \n",
    "    with open('../data/'+file_name) as file:\n",
    "        lines = file.readlines()\n",
    "    lines = [line.strip().split() for line in lines]\n",
    "    dict = {}\n",
    "    for line in lines:\n",
    "        if len(line) == 2:\n",
    "            dict[int(line[1])] = line[0]\n",
    "    return dict"
   ]
  },
  {
   "cell_type": "code",
   "execution_count": 106,
   "metadata": {},
   "outputs": [],
   "source": [
    "sym_dict = parse_dict('sym_dct.txt')\n",
    "herb_dict = parse_dict('herb_dct.txt')"
   ]
  },
  {
   "cell_type": "code",
   "execution_count": 131,
   "metadata": {},
   "outputs": [],
   "source": [
    "new_dict = {}\n",
    "for key in key_sym:\n",
    "    new_dict[key] = sym_dict[key]\n",
    "new_dict\n",
    "with open('data.txt', 'w') as outfile:\n",
    "    json.dump(new_dict, outfile)"
   ]
  },
  {
   "cell_type": "code",
   "execution_count": 64,
   "metadata": {},
   "outputs": [],
   "source": [
    "def predict_diseases(sym_list):\n",
    "    diseases = {}\n",
    "    # For each disease, compute Pr(d|{s1,s2,...,sn})\n",
    "    for d in key_dis:\n",
    "        dis_prob = 0.0\n",
    "        for s in sym_list:\n",
    "            dis_prob += np.log(P_s_d[d][s])\n",
    "        dis_prob += np.log(P_d[d])\n",
    "        diseases[d] = dis_prob\n",
    "\n",
    "    dis_rank = [(d, diseases[d]) for d in sorted(diseases, key=diseases.get, reverse=True)]\n",
    "    ret = []\n",
    "    for i in range(10):\n",
    "        ret.append(dis_rank[i][0])\n",
    "    print(ret)"
   ]
  },
  {
   "cell_type": "code",
   "execution_count": 65,
   "metadata": {
    "scrolled": true
   },
   "outputs": [
    {
     "name": "stdout",
     "output_type": "stream",
     "text": [
      "[7, 21, 3, 29, 44, 19, 67, 31, 85, 48]\n"
     ]
    }
   ],
   "source": [
    "predict_diseases([241, 10, 1888, 63, 270, 2143, 1, 21, 40, 428, 9, 2064, 2125, 119, 373, 117, 226, 2])"
   ]
  },
  {
   "cell_type": "code",
   "execution_count": 110,
   "metadata": {},
   "outputs": [],
   "source": [
    "def predict_herbs(diseases):\n",
    "    herbs = []\n",
    "    for disease in diseases:\n",
    "        potential_herbs = list(P_h_d[disease].items())\n",
    "        potential_herbs = sorted(potential_herbs, key=lambda herb: herb[1], reverse=True)\n",
    "        herb_for_one_disease = []\n",
    "        for i in range(5):\n",
    "            herb_for_one_disease.append(potential_herbs[i][0])\n",
    "        herbs.append(herb_for_one_disease)\n",
    "    print(herbs)\n",
    "    return herbs\n",
    "            "
   ]
  },
  {
   "cell_type": "code",
   "execution_count": 111,
   "metadata": {},
   "outputs": [
    {
     "name": "stdout",
     "output_type": "stream",
     "text": [
      "[[96, 43, 21, 10, 8], [2, 4, 5, 1, 8], [6, 3, 2, 13, 54], [2, 5, 42, 1, 6], [5, 11, 24, 2, 8], [25, 5, 4, 7, 44], [9, 6, 27, 3, 65], [7, 4, 2, 5, 1], [5, 1, 2, 9, 12], [2, 1, 52, 6, 12]]\n"
     ]
    }
   ],
   "source": [
    "herbs = predict_herbs([7, 21, 3, 29, 44, 19, 67, 31, 85, 48])"
   ]
  },
  {
   "cell_type": "code",
   "execution_count": 114,
   "metadata": {},
   "outputs": [
    {
     "name": "stdout",
     "output_type": "stream",
     "text": [
      "金钱草 旋覆花 浙贝母 黄芩 炒白芍 \n",
      "柴胡 蜜甘草 黄连 陈皮 炒白芍 \n",
      "麸炒白术 茯苓 柴胡 丹参 生牡蛎 \n",
      "柴胡 黄连 甘草 陈皮 麸炒白术 \n",
      "黄连 当归 醋莪术 柴胡 炒白芍 \n",
      "太子参 黄连 蜜甘草 麸炒枳实 旋复花 \n",
      "法半夏 麸炒白术 麸炒苍术 茯苓 盐知母 \n",
      "麸炒枳实 蜜甘草 柴胡 黄连 陈皮 \n",
      "黄连 陈皮 柴胡 法半夏 麸炒枳壳 \n",
      "柴胡 陈皮 焦神曲 麸炒白术 麸炒枳壳 \n"
     ]
    }
   ],
   "source": [
    "for x in herbs:\n",
    "    for y in x:\n",
    "        sys.stdout.write(herb_dict[y] + \" \")\n",
    "    sys.stdout.write('\\n')"
   ]
  },
  {
   "cell_type": "code",
   "execution_count": null,
   "metadata": {},
   "outputs": [],
   "source": []
  }
 ],
 "metadata": {
  "kernelspec": {
   "display_name": "Python 3",
   "language": "python",
   "name": "python3"
  },
  "language_info": {
   "codemirror_mode": {
    "name": "ipython",
    "version": 3
   },
   "file_extension": ".py",
   "mimetype": "text/x-python",
   "name": "python",
   "nbconvert_exporter": "python",
   "pygments_lexer": "ipython3",
   "version": "3.6.3"
  }
 },
 "nbformat": 4,
 "nbformat_minor": 2
}
