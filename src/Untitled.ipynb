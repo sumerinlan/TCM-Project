{
 "cells": [
  {
   "cell_type": "code",
   "execution_count": 42,
   "metadata": {},
   "outputs": [],
   "source": [
    "with open('../data/HIS_tuple.txt') as dis_dct_file:\n",
    "    lines = dis_dct_file.readlines()\n",
    "lines = [line.strip().split() for line in lines]\n",
    "training = []\n",
    "for line in lines:\n",
    "    if len(line) == 3:\n",
    "        record = [list(map(int, entry.strip()[:-1].split(':'))) for entry in line]\n",
    "        training.append(record)"
   ]
  },
  {
   "cell_type": "code",
   "execution_count": 54,
   "metadata": {},
   "outputs": [],
   "source": [
    "def parse_dict(file_name): \n",
    "    with open('../data/'+file_name) as file:\n",
    "        lines = file.readlines()\n",
    "    lines = [line.strip().split() for line in lines]\n",
    "    dict = {}\n",
    "    for line in lines:\n",
    "        if len(line) == 2:\n",
    "            dict[int(line[1])] = line[0]\n",
    "    return dict"
   ]
  },
  {
   "cell_type": "code",
   "execution_count": 57,
   "metadata": {},
   "outputs": [],
   "source": [
    "sym_dict = parse_dict('sym_dct.txt')\n",
    "herb_dict = parse_dict('herb_dct.txt')\n",
    "dis_dict = parse_dict('dis_dct.txt')"
   ]
  },
  {
   "cell_type": "code",
   "execution_count": 61,
   "metadata": {},
   "outputs": [
    {
     "data": {
      "text/plain": [
       "'党参'"
      ]
     },
     "execution_count": 61,
     "metadata": {},
     "output_type": "execute_result"
    }
   ],
   "source": []
  },
  {
   "cell_type": "code",
   "execution_count": null,
   "metadata": {},
   "outputs": [],
   "source": []
  }
 ],
 "metadata": {
  "kernelspec": {
   "display_name": "Python 3",
   "language": "python",
   "name": "python3"
  },
  "language_info": {
   "codemirror_mode": {
    "name": "ipython",
    "version": 3
   },
   "file_extension": ".py",
   "mimetype": "text/x-python",
   "name": "python",
   "nbconvert_exporter": "python",
   "pygments_lexer": "ipython3",
   "version": "3.6.3"
  }
 },
 "nbformat": 4,
 "nbformat_minor": 2
}
